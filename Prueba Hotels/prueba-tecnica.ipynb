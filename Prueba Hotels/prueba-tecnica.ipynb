{
  "cells": [
    {
      "cell_type": "code",
      "execution_count": 54,
      "metadata": {
        "id": "uLJf0m4Lz9Pr"
      },
      "outputs": [],
      "source": [
        "#cargar los datos\n",
        "import pandas as pd\n",
        "df = pd.read_excel('requests.xlsx')\n",
        "pd.set_option('display.max_columns', None)"
      ]
    },
    {
      "cell_type": "code",
      "execution_count": null,
      "metadata": {
        "colab": {
          "base_uri": "https://localhost:8080/",
          "height": 310
        },
        "id": "cjFc_PVI0TiW",
        "outputId": "31ebb10d-70e4-4f81-d5cf-6bfbb9fdc428"
      },
      "outputs": [],
      "source": [
        "df.sample(5)"
      ]
    },
    {
      "cell_type": "code",
      "execution_count": null,
      "metadata": {
        "colab": {
          "base_uri": "https://localhost:8080/"
        },
        "id": "famX9cxHb26B",
        "outputId": "886c2d9c-8902-41ff-e77e-be6da68dc998"
      },
      "outputs": [],
      "source": [
        "#miramos los tipos de datos por columnas y los nulos.\n",
        "#Nos llama la atención Request date en tipo object\n",
        "df.info()"
      ]
    },
    {
      "cell_type": "code",
      "execution_count": null,
      "metadata": {
        "colab": {
          "base_uri": "https://localhost:8080/"
        },
        "id": "m9U5mbIPJ0dU",
        "outputId": "cbb2b3dc-41b8-45cc-d6d1-4af1e9089784"
      },
      "outputs": [],
      "source": [
        "df.columns"
      ]
    },
    {
      "cell_type": "code",
      "execution_count": null,
      "metadata": {
        "colab": {
          "base_uri": "https://localhost:8080/",
          "height": 491
        },
        "id": "KIi3mWXXb6sZ",
        "outputId": "5fe416ae-cac8-4ac5-ad3b-d18747cad22d"
      },
      "outputs": [],
      "source": [
        "df.isnull().sum()"
      ]
    },
    {
      "cell_type": "code",
      "execution_count": null,
      "metadata": {},
      "outputs": [],
      "source": [
        "df.describe().T"
      ]
    },
    {
      "cell_type": "code",
      "execution_count": null,
      "metadata": {},
      "outputs": [],
      "source": [
        "df.select_dtypes(include=['object']).describe().T"
      ]
    },
    {
      "cell_type": "code",
      "execution_count": null,
      "metadata": {},
      "outputs": [],
      "source": [
        "for column in df.columns:\n",
        "    print(f'{column}: {df[column].unique()}')"
      ]
    },
    {
      "cell_type": "code",
      "execution_count": null,
      "metadata": {
        "colab": {
          "base_uri": "https://localhost:8080/"
        },
        "id": "1AzDq9wFVCEV",
        "outputId": "c40a31b5-8b0f-4dd9-9fd7-1ebce28a2203"
      },
      "outputs": [],
      "source": [
        "#Comprobamos si hay reservas con el mismo id y misma cantidad\n",
        "#Encontramos dos repetidas con el id 100/1200589, misma cantidad y misma fecha\n",
        "#y tres con el id 100/1239393, misma cantidad y misma fecha\n",
        "\n",
        "duplicates = df[df.duplicated(subset=['Booking', 'Amount'], keep=False)]\n",
        "print(duplicates.T)"
      ]
    },
    {
      "cell_type": "code",
      "execution_count": 3,
      "metadata": {
        "id": "k6w35pFsV2os"
      },
      "outputs": [],
      "source": [
        "df = df.drop_duplicates(subset=['Booking', 'Amount'], keep='first')"
      ]
    },
    {
      "cell_type": "code",
      "execution_count": null,
      "metadata": {
        "colab": {
          "base_uri": "https://localhost:8080/"
        },
        "id": "nCCIHX4vcXYH",
        "outputId": "19027144-6838-4479-d71c-ebf31f71d593"
      },
      "outputs": [],
      "source": [
        "#comprobamos los duplicados y los borramos\n",
        "df.duplicated().sum()"
      ]
    },
    {
      "cell_type": "code",
      "execution_count": 56,
      "metadata": {
        "collapsed": true,
        "id": "J3Jr1RdgdQhh"
      },
      "outputs": [],
      "source": [
        "#renombramos las columnas para que no tengan espacios\n",
        "name_columns = {col: col.replace(\" \", \"_\") for col in df.columns}\n",
        "df = df.rename(columns= name_columns)"
      ]
    },
    {
      "cell_type": "code",
      "execution_count": 38,
      "metadata": {
        "colab": {
          "base_uri": "https://localhost:8080/",
          "height": 181
        },
        "id": "hi9cTqvIONEj",
        "outputId": "8bc899e7-7ac1-4f9d-ef9a-18eba17abd61"
      },
      "outputs": [
        {
          "data": {
            "text/html": [
              "<div>\n",
              "<style scoped>\n",
              "    .dataframe tbody tr th:only-of-type {\n",
              "        vertical-align: middle;\n",
              "    }\n",
              "\n",
              "    .dataframe tbody tr th {\n",
              "        vertical-align: top;\n",
              "    }\n",
              "\n",
              "    .dataframe thead th {\n",
              "        text-align: right;\n",
              "    }\n",
              "</style>\n",
              "<table border=\"1\" class=\"dataframe\">\n",
              "  <thead>\n",
              "    <tr style=\"text-align: right;\">\n",
              "      <th></th>\n",
              "      <th>Booking</th>\n",
              "      <th>Request_date</th>\n",
              "      <th>Requested_by</th>\n",
              "      <th>Authorized_by</th>\n",
              "      <th>Department</th>\n",
              "      <th>Currency</th>\n",
              "      <th>Amount</th>\n",
              "      <th>Reason</th>\n",
              "      <th>Reason_2</th>\n",
              "      <th>Status</th>\n",
              "      <th>CustomerShortname</th>\n",
              "      <th>CustomerRegion</th>\n",
              "      <th>Amount_COMGES_in_EUR</th>\n",
              "    </tr>\n",
              "  </thead>\n",
              "  <tbody>\n",
              "    <tr>\n",
              "      <th>193573</th>\n",
              "      <td>100/1193573</td>\n",
              "      <td>2024-07-05 00:00:00</td>\n",
              "      <td>user23@hotelbeds.com</td>\n",
              "      <td>approver25@hotelbeds.com</td>\n",
              "      <td>Sales</td>\n",
              "      <td>USD</td>\n",
              "      <td>2.02</td>\n",
              "      <td>Others</td>\n",
              "      <td>SPECIFIC CUSTOMER AGREEMENTS</td>\n",
              "      <td>Applied</td>\n",
              "      <td>CLIENT2</td>\n",
              "      <td>Region 2</td>\n",
              "      <td>1.885824</td>\n",
              "    </tr>\n",
              "    <tr>\n",
              "      <th>15660</th>\n",
              "      <td>100/1015660</td>\n",
              "      <td>2024-01-16 00:00:00</td>\n",
              "      <td>user23@hotelbeds.com</td>\n",
              "      <td>approver25@hotelbeds.com</td>\n",
              "      <td>Sales</td>\n",
              "      <td>USD</td>\n",
              "      <td>4.01</td>\n",
              "      <td>Others</td>\n",
              "      <td>SPECIFIC CUSTOMER AGREEMENTS</td>\n",
              "      <td>Applied</td>\n",
              "      <td>CLIENT2</td>\n",
              "      <td>Region 2</td>\n",
              "      <td>3.743640</td>\n",
              "    </tr>\n",
              "  </tbody>\n",
              "</table>\n",
              "</div>"
            ],
            "text/plain": [
              "            Booking         Request_date          Requested_by  \\\n",
              "193573  100/1193573  2024-07-05 00:00:00  user23@hotelbeds.com   \n",
              "15660   100/1015660  2024-01-16 00:00:00  user23@hotelbeds.com   \n",
              "\n",
              "                   Authorized_by Department Currency  Amount  Reason  \\\n",
              "193573  approver25@hotelbeds.com      Sales      USD    2.02  Others   \n",
              "15660   approver25@hotelbeds.com      Sales      USD    4.01  Others   \n",
              "\n",
              "                            Reason_2   Status CustomerShortname  \\\n",
              "193573  SPECIFIC CUSTOMER AGREEMENTS  Applied           CLIENT2   \n",
              "15660   SPECIFIC CUSTOMER AGREEMENTS  Applied           CLIENT2   \n",
              "\n",
              "       CustomerRegion  Amount_COMGES_in_EUR  \n",
              "193573       Region 2              1.885824  \n",
              "15660        Region 2              3.743640  "
            ]
          },
          "execution_count": 38,
          "metadata": {},
          "output_type": "execute_result"
        }
      ],
      "source": [
        "df.sample(2)"
      ]
    },
    {
      "cell_type": "code",
      "execution_count": 5,
      "metadata": {
        "id": "jMuEehibCaoC"
      },
      "outputs": [],
      "source": [
        "#comprobamos los nulos en Athorized_by\n",
        "authorized_null = df[df['Authorized_by'].isna()]"
      ]
    },
    {
      "cell_type": "code",
      "execution_count": null,
      "metadata": {
        "colab": {
          "base_uri": "https://localhost:8080/"
        },
        "id": "isXU_9bMCh7t",
        "outputId": "84565a17-ff41-4f7e-d8d8-ae3a1471311e"
      },
      "outputs": [],
      "source": [
        "print(authorized_null)"
      ]
    },
    {
      "cell_type": "code",
      "execution_count": 13,
      "metadata": {
        "id": "HP4YFz-wCp6F"
      },
      "outputs": [],
      "source": [
        "#vemos que los dos son de la región 2 y comprobamos si los correos de aprobación se repiten.\n",
        "authorized_by_region2 = df[df['CustomerRegion'] == \"Region 2\"]['Authorized_by']"
      ]
    },
    {
      "cell_type": "code",
      "execution_count": null,
      "metadata": {
        "colab": {
          "base_uri": "https://localhost:8080/"
        },
        "id": "DxnqosJECze2",
        "outputId": "0d5a78c3-80ac-4240-867f-c67607eb7c87"
      },
      "outputs": [],
      "source": [
        "#No hay un patrón, así que no podemos averiguar cuáles son los faltantes\n",
        "print(authorized_by_region2.unique())"
      ]
    },
    {
      "cell_type": "code",
      "execution_count": 6,
      "metadata": {
        "id": "dF2Yn6iuegTQ"
      },
      "outputs": [],
      "source": [
        "#por danto, decidimos eliminar los nulos\n",
        "df = df.dropna(subset=['Authorized_by'])"
      ]
    },
    {
      "cell_type": "code",
      "execution_count": null,
      "metadata": {},
      "outputs": [],
      "source": [
        "#Vemos que los correos deberían tener el @ antes de \"hotelbeds\"\n",
        "df_requested = df['Requested_by']\n",
        "print(df_requested)"
      ]
    },
    {
      "cell_type": "code",
      "execution_count": null,
      "metadata": {
        "colab": {
          "base_uri": "https://localhost:8080/"
        },
        "id": "iNRggKtler9W",
        "outputId": "b158037e-9050-4818-ff82-46b8bcd7ea86"
      },
      "outputs": [],
      "source": [
        "#comprobamos qué correos, tanto de requested_by como de authorized_by no tienen la estructura deseada\n",
        "import re\n",
        "email_pattern = r'^[a-zA-Z0-9_.+-]+@[a-zA-Z0-9-]+\\.[a-zA-Z0-9-.]+$'\n",
        "invalid_emails = df[~df['Requested_by'].str.contains(email_pattern, na=False) |\n",
        "                            ~df['Authorized_by'].str.contains(email_pattern, na=False)]\n",
        "print(invalid_emails)\n"
      ]
    },
    {
      "cell_type": "code",
      "execution_count": 17,
      "metadata": {
        "id": "6Cmp4JdafSKd"
      },
      "outputs": [],
      "source": [
        "#creamos una función para sustituir los correos erróneos y añadirles el @\n",
        "import re\n",
        "def change_email(row):\n",
        "    email_pattern = r'^[a-zA-Z0-9_.+-]+@[a-zA-Z0-9-]+\\.[a-zA-Z0-9-.]+$'\n",
        "    if not re.match(email_pattern,row):\n",
        "        if \"hotelbeds\" in row and \"@\" not in row:\n",
        "            return row.replace(\"hotelbeds\", \"@hotelbeds\")\n",
        "    return row"
      ]
    },
    {
      "cell_type": "code",
      "execution_count": 18,
      "metadata": {
        "id": "_K3Jwwqszg9r"
      },
      "outputs": [],
      "source": [
        "df['Requested_by'] = df['Requested_by'].apply(change_email)"
      ]
    },
    {
      "cell_type": "code",
      "execution_count": null,
      "metadata": {
        "colab": {
          "base_uri": "https://localhost:8080/"
        },
        "id": "QuhGQSnMMfvJ",
        "outputId": "5549fc14-17cb-49cb-dde4-ddca87591fb9"
      },
      "outputs": [],
      "source": [
        "df.columns"
      ]
    },
    {
      "cell_type": "code",
      "execution_count": null,
      "metadata": {
        "colab": {
          "base_uri": "https://localhost:8080/"
        },
        "id": "mZ5y7XvT75yX",
        "outputId": "6bd27736-e501-4743-e88d-b13edcb5f8a2"
      },
      "outputs": [],
      "source": [
        "#vemos las divisas y comprobamos que hay errores. De todas formas, vamos a sustituirlo todo por EUR y borrar la otra columna de divisa.\n",
        "df['Currency'].unique()"
      ]
    },
    {
      "cell_type": "code",
      "execution_count": 11,
      "metadata": {
        "id": "uNthNqJX822x"
      },
      "outputs": [],
      "source": [
        "#vamos a cambiar esa columna a euro con un diccionario y una función.\n",
        "exchange_rates = {\n",
        "    'CNY': 0.13, 'USD': 0.85, 'AED': 0.23, 'HKD': 0.11, 'GBP': 1.15, 'EUR': 1.0,\n",
        "    'BRL': 0.17, 'JPY': 0.0064, 'MXN': 0.048, 'IDR': 0.000056, 'AUD': 0.63,\n",
        "    'KRW': 0.00066, 'NZD': 0.59, 'ZAR': 0.049, 'INR': 0.012, 'THB': 0.025,\n",
        "    'CAD': 0.63, 'COP': 0.00022, 'SAR': 0.23, 'CHF': 0.92, 'SGD': 0.63,\n",
        "    'NOK': 0.085, 'PHP': 0.015\n",
        "}"
      ]
    },
    {
      "cell_type": "code",
      "execution_count": 12,
      "metadata": {
        "id": "q392H_dX84_7"
      },
      "outputs": [],
      "source": [
        "def convert_to_eur(row):\n",
        "    currency = row['Currency']\n",
        "    amount = row['Amount']\n",
        "    if currency in exchange_rates:\n",
        "        return amount * exchange_rates[currency]\n",
        "    return amount"
      ]
    },
    {
      "cell_type": "code",
      "execution_count": 13,
      "metadata": {
        "id": "e16aI9dH9A30"
      },
      "outputs": [],
      "source": [
        "df['Amount'] = df.apply(convert_to_eur, axis=1)"
      ]
    },
    {
      "cell_type": "code",
      "execution_count": null,
      "metadata": {},
      "outputs": [],
      "source": [
        "df['Currency'] = \"EUR\""
      ]
    },
    {
      "cell_type": "code",
      "execution_count": null,
      "metadata": {
        "colab": {
          "base_uri": "https://localhost:8080/",
          "height": 379
        },
        "id": "7cJ_mjVm9Ttg",
        "outputId": "6ac63117-5e60-465e-db21-37942a964b1d"
      },
      "outputs": [],
      "source": [
        "df.sample(5)"
      ]
    },
    {
      "cell_type": "code",
      "execution_count": 42,
      "metadata": {
        "colab": {
          "base_uri": "https://localhost:8080/"
        },
        "id": "hngXZ9209-yp",
        "outputId": "6255ab02-1188-41cd-d021-1c0e6f076ed2"
      },
      "outputs": [
        {
          "data": {
            "text/plain": [
              "2"
            ]
          },
          "execution_count": 42,
          "metadata": {},
          "output_type": "execute_result"
        }
      ],
      "source": [
        "#vemos cuántos nulos hay en Reason\n",
        "df['Reason'].isnull().sum()"
      ]
    },
    {
      "cell_type": "code",
      "execution_count": null,
      "metadata": {
        "colab": {
          "base_uri": "https://localhost:8080/"
        },
        "id": "k6KnUSXq-KRS",
        "outputId": "74155a00-c0b4-4a68-8c3d-976e518a5cd8"
      },
      "outputs": [],
      "source": [
        "df['Reason'].unique()"
      ]
    },
    {
      "cell_type": "code",
      "execution_count": null,
      "metadata": {
        "colab": {
          "base_uri": "https://localhost:8080/"
        },
        "id": "ukQXPx3x_qqK",
        "outputId": "1174cc8c-90cb-402c-9599-148e7ae7e30a"
      },
      "outputs": [],
      "source": [
        "#comprobamos cuántas razones hay de cada tipo\n",
        "cancel_count = df['Reason'].value_counts()\n",
        "print(cancel_count)"
      ]
    },
    {
      "cell_type": "code",
      "execution_count": 22,
      "metadata": {
        "id": "FeXkI9T2_y70"
      },
      "outputs": [],
      "source": [
        "#agrupamos por departamento, region y cliente, por si encontramos algún patrón\n",
        "grouped_by_department = df.groupby(['Department', 'Reason']).size().reset_index(name='Counts')\n",
        "grouped_by_region = df.groupby(['CustomerRegion', 'Reason']).size().reset_index(name='Counts')\n",
        "grouped_by_shortname = df.groupby(['CustomerShortname', 'Reason']).size().reset_index(name='Counts')\n",
        "\n",
        "#.size cuenta el total de filas creadas por la agrupación"
      ]
    },
    {
      "cell_type": "code",
      "execution_count": null,
      "metadata": {
        "colab": {
          "base_uri": "https://localhost:8080/"
        },
        "id": "k-A8QJq0_5U7",
        "outputId": "7668ea42-2997-478e-aafd-b97accebd2b5"
      },
      "outputs": [],
      "source": [
        "print(\"Cancelaciones agrupadas por Department y Reason:\")\n",
        "print(grouped_by_department)\n",
        "\n",
        "\n",
        "print(\"\\nCancelaciones agrupadas por CustomerRegion y Reason:\")\n",
        "print(grouped_by_region)\n",
        "\n",
        "\n",
        "print(\"\\nCancelaciones agrupadas por CustomerShortname y Reason:\")\n",
        "print(grouped_by_shortname)"
      ]
    },
    {
      "cell_type": "code",
      "execution_count": 25,
      "metadata": {
        "id": "hVgrlvCqANQo"
      },
      "outputs": [],
      "source": [
        "#mostramos solo los nulos y, efectivamente, en ambos casos el cliente y el authorized_by es el mismo\n",
        "nuls = df[df['Reason'].isna()]"
      ]
    },
    {
      "cell_type": "code",
      "execution_count": null,
      "metadata": {
        "colab": {
          "base_uri": "https://localhost:8080/"
        },
        "id": "oLF2gq5UAU4W",
        "outputId": "f16f56f9-7b48-4693-92c0-6444813cdfd3"
      },
      "outputs": [],
      "source": [
        "print(nuls)"
      ]
    },
    {
      "cell_type": "code",
      "execution_count": 49,
      "metadata": {
        "id": "g89tK8iqAjrZ"
      },
      "outputs": [],
      "source": [
        "client113 = df[df['CustomerShortname'] == \"CLIENT113\"]"
      ]
    },
    {
      "cell_type": "code",
      "execution_count": null,
      "metadata": {
        "colab": {
          "base_uri": "https://localhost:8080/"
        },
        "id": "lYUEboGqA3KA",
        "outputId": "c7ce6391-145c-44a8-aabb-cca22c0010a0"
      },
      "outputs": [],
      "source": [
        "#Revisamos que todas las entradas con CLIENT113 que tienen la razon2 \"cancellation waive\", tienen como reason \"CANCELLATIONS\" y la única que no es así, tiene reason \"Booking_operational_issue\". Podríamos sustituir los nulos por \"CANCELLATIONS\", que es la opción más probable, o eliminar esas filas o consultar con el cliente. Decidimos sustituir los nulos por \"CANCELLATIONS\"\n",
        "\n",
        "print(client113)"
      ]
    },
    {
      "cell_type": "code",
      "execution_count": 15,
      "metadata": {
        "id": "0FGiXWfhBlDB"
      },
      "outputs": [],
      "source": [
        "df['Reason'] = df['Reason'].fillna(\"CANCELLATIONS\")"
      ]
    },
    {
      "cell_type": "code",
      "execution_count": 104,
      "metadata": {
        "colab": {
          "base_uri": "https://localhost:8080/"
        },
        "id": "lGN0RGpzHCse",
        "outputId": "f60865d8-c044-454c-c13e-3c627d6aef05"
      },
      "outputs": [
        {
          "data": {
            "text/plain": [
              "0"
            ]
          },
          "execution_count": 104,
          "metadata": {},
          "output_type": "execute_result"
        }
      ],
      "source": [
        "df['Reason'].isnull().sum()"
      ]
    },
    {
      "cell_type": "code",
      "execution_count": 55,
      "metadata": {
        "colab": {
          "base_uri": "https://localhost:8080/"
        },
        "id": "grntL6kNHOVK",
        "outputId": "a7a26025-d6bb-4dc1-f417-ed2082d90229"
      },
      "outputs": [
        {
          "data": {
            "text/plain": [
              "81"
            ]
          },
          "execution_count": 55,
          "metadata": {},
          "output_type": "execute_result"
        }
      ],
      "source": [
        "#De la primera razón ya no hay nulos, en la siguiente hay 82, pero son optativos.\n",
        "#Aun así, los sustituimos por UNKNOWN para evitar errores.\n",
        "df['Reason_2'].isnull().sum()"
      ]
    },
    {
      "cell_type": "code",
      "execution_count": 16,
      "metadata": {
        "id": "Egm2wLCqRdEW"
      },
      "outputs": [],
      "source": [
        "df['Reason_2'] = df['Reason_2'].fillna(\"Unknown\")"
      ]
    },
    {
      "cell_type": "code",
      "execution_count": null,
      "metadata": {
        "colab": {
          "base_uri": "https://localhost:8080/"
        },
        "id": "Adn0wLTwHp7M",
        "outputId": "50e4e95d-19e0-4486-b345-bcf6ce82f8d9"
      },
      "outputs": [],
      "source": [
        "df['Reason_2'].unique()"
      ]
    },
    {
      "cell_type": "code",
      "execution_count": null,
      "metadata": {
        "colab": {
          "base_uri": "https://localhost:8080/"
        },
        "id": "etTF05wpHjJo",
        "outputId": "1dcccd03-83c3-4c97-97cd-7ccd2d46ca92"
      },
      "outputs": [],
      "source": [
        "df.info()"
      ]
    },
    {
      "cell_type": "code",
      "execution_count": null,
      "metadata": {},
      "outputs": [],
      "source": [
        "df.isnull().sum()"
      ]
    },
    {
      "cell_type": "code",
      "execution_count": 59,
      "metadata": {
        "id": "1HuxWygLILIp"
      },
      "outputs": [],
      "source": [
        "#pasamos la columna de date a formato fecha\n",
        "df['Request_date'] = pd.to_datetime(df['Request_date'])"
      ]
    },
    {
      "cell_type": "code",
      "execution_count": null,
      "metadata": {
        "colab": {
          "base_uri": "https://localhost:8080/"
        },
        "id": "TE5smMGiZLCw",
        "outputId": "6cac4a3b-2593-4743-9300-2dfe8baab95e"
      },
      "outputs": [],
      "source": [
        "nuls = df[df['Amount_COMGES_in_EUR'].isnull()]\n",
        "print(nuls)"
      ]
    },
    {
      "cell_type": "code",
      "execution_count": 18,
      "metadata": {
        "id": "vbkvzHl_aNzY"
      },
      "outputs": [],
      "source": [
        "df = df.drop('Amount_COMGES_in_EUR', axis=1)"
      ]
    },
    {
      "cell_type": "code",
      "execution_count": null,
      "metadata": {
        "colab": {
          "base_uri": "https://localhost:8080/"
        },
        "id": "zWZU06WnaUCE",
        "outputId": "78f4e14d-ba8b-4faf-f22e-9d6c51d3c978"
      },
      "outputs": [],
      "source": [
        "df.head()"
      ]
    },
    {
      "cell_type": "code",
      "execution_count": null,
      "metadata": {
        "colab": {
          "base_uri": "https://localhost:8080/"
        },
        "id": "ROoSQy4waa1v",
        "outputId": "b28c6f78-33cb-4c7e-e841-20640371645a"
      },
      "outputs": [],
      "source": [
        "df.info()"
      ]
    },
    {
      "cell_type": "code",
      "execution_count": null,
      "metadata": {},
      "outputs": [],
      "source": [
        "#Hacemos limpieza de columnas"
      ]
    },
    {
      "cell_type": "code",
      "execution_count": 27,
      "metadata": {},
      "outputs": [
        {
          "data": {
            "text/plain": [
              "array(['BOOKING_OPERATIONAL_ISSUE', 'BOOKING_TECHNICAL_ISSUE', 'OTHERS',\n",
              "       'RATE_ERROR', 'CANCELLATIONS', 'Operational Issues', 'Others', nan],\n",
              "      dtype=object)"
            ]
          },
          "execution_count": 27,
          "metadata": {},
          "output_type": "execute_result"
        }
      ],
      "source": [
        "df['Reason'].unique()"
      ]
    },
    {
      "cell_type": "code",
      "execution_count": 28,
      "metadata": {},
      "outputs": [],
      "source": [
        "df['Reason'] = df['Reason'].str.title()"
      ]
    },
    {
      "cell_type": "code",
      "execution_count": 29,
      "metadata": {},
      "outputs": [
        {
          "data": {
            "text/plain": [
              "array(['Booking_Operational_Issue', 'Booking_Technical_Issue', 'Others',\n",
              "       'Rate_Error', 'Cancellations', 'Operational Issues', nan],\n",
              "      dtype=object)"
            ]
          },
          "execution_count": 29,
          "metadata": {},
          "output_type": "execute_result"
        }
      ],
      "source": [
        "df['Reason'].unique()"
      ]
    },
    {
      "cell_type": "code",
      "execution_count": null,
      "metadata": {},
      "outputs": [],
      "source": [
        "for column in df.columns:\n",
        "    print(df[column].unique())"
      ]
    },
    {
      "cell_type": "code",
      "execution_count": 39,
      "metadata": {},
      "outputs": [],
      "source": [
        "df['Reason_2'] = df['Reason_2'].str.title()"
      ]
    },
    {
      "cell_type": "code",
      "execution_count": null,
      "metadata": {},
      "outputs": [],
      "source": [
        "df['Reason_2'].unique()"
      ]
    },
    {
      "cell_type": "code",
      "execution_count": null,
      "metadata": {
        "id": "inQ6iQg-IbQV"
      },
      "outputs": [],
      "source": [
        "#guardamos el dataframe\n",
        "df.to_excel('archivo.xlsx')"
      ]
    },
    {
      "cell_type": "code",
      "execution_count": null,
      "metadata": {
        "id": "OEHs92ytUDhG"
      },
      "outputs": [],
      "source": [
        "#A continuación, pasamos a visualización"
      ]
    },
    {
      "cell_type": "code",
      "execution_count": 41,
      "metadata": {
        "id": "BiOm98XRKqxG"
      },
      "outputs": [],
      "source": [
        "import matplotlib.pyplot as plt\n",
        "import seaborn as sns"
      ]
    },
    {
      "cell_type": "code",
      "execution_count": 20,
      "metadata": {},
      "outputs": [
        {
          "data": {
            "text/plain": [
              "Index(['Booking', 'Request_date', 'Requested_by', 'Authorized_by',\n",
              "       'Department', 'Currency', 'Amount', 'Reason', 'Reason_2', 'Status',\n",
              "       'CustomerShortname', 'CustomerRegion'],\n",
              "      dtype='object')"
            ]
          },
          "execution_count": 20,
          "metadata": {},
          "output_type": "execute_result"
        }
      ],
      "source": [
        "df.columns"
      ]
    },
    {
      "cell_type": "code",
      "execution_count": null,
      "metadata": {},
      "outputs": [],
      "source": [
        "#Distribución por tipo de cancelación"
      ]
    },
    {
      "cell_type": "code",
      "execution_count": null,
      "metadata": {
        "colab": {
          "base_uri": "https://localhost:8080/",
          "height": 675
        },
        "id": "BktbGOlOKufB",
        "outputId": "7715cdbd-0dd8-4501-e1ed-4eeafed623cd"
      },
      "outputs": [],
      "source": [
        "import matplotlib.pyplot as plt\n",
        "\n",
        "reason_counts = df['Reason'].value_counts()\n",
        "reason_counts.plot(kind='bar', title='Distribución de tipos de cancelación')\n",
        "plt.xlabel('Tipo de cancelación')\n",
        "plt.ylabel('Frecuencia')\n",
        "plt.show()"
      ]
    },
    {
      "cell_type": "code",
      "execution_count": null,
      "metadata": {},
      "outputs": [],
      "source": [
        "#Distribución gasto"
      ]
    },
    {
      "cell_type": "code",
      "execution_count": null,
      "metadata": {},
      "outputs": [],
      "source": [
        "import matplotlib.pyplot as plt\n",
        "\n",
        "plt.figure(figsize=(8,5))  \n",
        "plt.boxplot(df['Amount'])  \n",
        "\n",
        "plt.xlabel('Gasto')  \n",
        "plt.ylabel('Frecuencia')  \n",
        "plt.title('Distribución de cantidades') \n",
        "plt.show()"
      ]
    },
    {
      "cell_type": "code",
      "execution_count": null,
      "metadata": {},
      "outputs": [],
      "source": [
        "#Euros por tipo de cancelación"
      ]
    },
    {
      "cell_type": "code",
      "execution_count": null,
      "metadata": {},
      "outputs": [],
      "source": [
        "#cancelaciones por región"
      ]
    },
    {
      "cell_type": "code",
      "execution_count": null,
      "metadata": {
        "colab": {
          "base_uri": "https://localhost:8080/",
          "height": 633
        },
        "id": "iY6IWweNLBoM",
        "outputId": "b8dd07c7-e61d-46ef-b426-030434b55998"
      },
      "outputs": [],
      "source": [
        "plt.figure(figsize=(10, 6))\n",
        "region_counts = df['CustomerRegion'].value_counts().reset_index()\n",
        "region_counts.columns = ['CustomerRegion', 'Count']\n",
        "sns.barplot(data=region_counts, x='CustomerRegion', y='Count', palette='viridis')\n",
        "plt.xlabel('Región')\n",
        "plt.ylabel('Número de cancelaciones')\n",
        "plt.show()"
      ]
    },
    {
      "cell_type": "code",
      "execution_count": null,
      "metadata": {},
      "outputs": [],
      "source": [
        "#Solicitudes en el tiempo"
      ]
    },
    {
      "cell_type": "code",
      "execution_count": null,
      "metadata": {},
      "outputs": [],
      "source": [
        "\n",
        "df.groupby('Request_date').size().plot(figsize=(15,10), linestyle='-', color='teal')\n",
        "\n",
        "plt.title(\"Evolución de Solicitudes a lo Largo del Tiempo\")\n",
        "plt.xlabel(\"Fecha\")\n",
        "plt.ylabel(\"Cantidad de Solicitudes\")\n",
        "plt.show()"
      ]
    },
    {
      "cell_type": "code",
      "execution_count": null,
      "metadata": {},
      "outputs": [],
      "source": [
        "#correos con más peticiones"
      ]
    },
    {
      "cell_type": "code",
      "execution_count": null,
      "metadata": {
        "colab": {
          "base_uri": "https://localhost:8080/",
          "height": 898
        },
        "id": "UX_X_CkdLtt2",
        "outputId": "03709678-ab9e-4977-ce7d-588b1b3758a4"
      },
      "outputs": [],
      "source": [
        "\n",
        "correos_frecuencia = df['Requested_by'].value_counts().reset_index()\n",
        "correos_frecuencia.columns = ['Requested_by', 'Count']\n",
        "\n",
        "\n",
        "top_correos = correos_frecuencia.head(10)\n",
        "\n",
        "\n",
        "plt.figure(figsize=(10, 6))\n",
        "sns.barplot(data=top_correos, x='Requested_by', y='Count', palette='pastel')\n",
        "plt.title('Correos que Más Aparecen en Requested_by')\n",
        "plt.xlabel('Correo')\n",
        "plt.ylabel('Número de Apariciones')\n",
        "plt.xticks(rotation=90)\n",
        "plt.tight_layout()\n",
        "plt.show()"
      ]
    }
  ],
  "metadata": {
    "colab": {
      "provenance": []
    },
    "kernelspec": {
      "display_name": "base",
      "language": "python",
      "name": "python3"
    },
    "language_info": {
      "codemirror_mode": {
        "name": "ipython",
        "version": 3
      },
      "file_extension": ".py",
      "mimetype": "text/x-python",
      "name": "python",
      "nbconvert_exporter": "python",
      "pygments_lexer": "ipython3",
      "version": "3.11.7"
    }
  },
  "nbformat": 4,
  "nbformat_minor": 0
}
